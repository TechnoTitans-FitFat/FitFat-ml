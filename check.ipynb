{
  "nbformat": 4,
  "nbformat_minor": 0,
  "metadata": {
    "colab": {
      "provenance": []
    },
    "kernelspec": {
      "name": "python3",
      "display_name": "Python 3"
    },
    "language_info": {
      "name": "python"
    }
  },
  "cells": [
    {
      "cell_type": "code",
      "execution_count": 21,
      "metadata": {
        "colab": {
          "base_uri": "https://localhost:8080/"
        },
        "id": "ivRoAWlGnaHx",
        "outputId": "501df756-caa3-4a63-c52d-4536a746b486"
      },
      "outputs": [
        {
          "output_type": "stream",
          "name": "stdout",
          "text": [
            "[\"['none']\" \"['lactose']\" \"['shellfish']\"]\n",
            "[\"['Salad']\" \"['Meat']\" \"['Soup']\" \"['Dessert']\" \"['sandwich']\"\n",
            " \"['Drink']\" \"['Sandwich']\"]\n",
            "[\"['diet']\"]\n",
            "['[False]' 'False']\n",
            "[\"['Lunch', 'Dinner']\" \"['Breakfast', 'Lunch', 'Dinner']\" \"['Breakfast']\"\n",
            " \"['Lunch']\" \"['Dinner']\"]\n",
            "[\"['none']\" \"['high-carb']\" \"['keto']\" \"['low-carb']\" \"['vegan']\"]\n",
            "[108 209 271 155 167 235 280  94 274 191 140 170 156 241 294 266 216 117\n",
            " 198 193 246 172 283 119 121 221 125 233 197 148 158 204 123 257 104 253\n",
            "  92 128 208 297 166 205 300 242 132 141 143 150 220 234 116 259 196 229\n",
            " 174 270 264 133 102 105 224 237 157 202 262 240 183 159 250 217 168 210\n",
            " 160 225 188 260 203 265 101 112 135 218 290 298 214 162 122 106 115 164\n",
            "  98 200 189 295 299 139 192 278 142 292 248 113 182 179 163 213 103 194\n",
            " 190 184 120 261 100 118 207 238 169 287 154 211 281 275 244 151 178 296\n",
            " 289 255 124 136 152 285 186 288 109 127 111 256 138 232 284 195  99 258\n",
            " 171 252 201 231 239 175 286 114 243]\n"
          ]
        }
      ],
      "source": [
        "import pandas as pd\n",
        "import json\n",
        "\n",
        "with open(\"diet_recipes.json\", \"r\", encoding=\"utf-8\") as file:\n",
        "    data = json.load(file)\n",
        "\n",
        "df = pd.DataFrame(data['recipes'])\n",
        "#display(df)\n",
        "print(df[\"allergy\"].astype(str).unique())\n",
        "print(df[\"type\"].astype(str).unique())\n",
        "print(df[\"category\"].astype(str).unique())\n",
        "print(df[\"diabetes\"].astype(str).unique())\n",
        "print(df[\"class\"].astype(str).unique())\n",
        "print(df[\"diet\"].astype(str).unique())\n",
        "print(df[\"price\"].unique())"
      ]
    }
  ]
}